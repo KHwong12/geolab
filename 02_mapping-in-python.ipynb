{
 "cells": [
  {
   "cell_type": "markdown",
   "id": "a77b3ec6",
   "metadata": {},
   "source": [
    "# Lab 02 - Mapping in Python\n",
    "\n",
    "<a href=\\\"https://colab.research.google.com/github/KHwong12/geolab\" target=\\\"_parent\\\"><img src=\\\"https://colab.research.google.com/assets/colab-badge.svg\\\" alt=\\\"Open In Colab\\\"/></a>\n",
    "\n",
    "**Author**: Kenneth Wong (khwongk12@gmail.com)\n",
    "\n",
    "**Last Edited**: TODO\n",
    "\n",
    "---\n",
    "\n",
    "## Setup\n"
   ]
  },
  {
   "cell_type": "raw",
   "id": "63761f3f",
   "metadata": {},
   "source": [
    "!pip3 install geopandas contextily shapely matplotlib"
   ]
  },
  {
   "cell_type": "code",
   "execution_count": null,
   "id": "72cfbc9e",
   "metadata": {},
   "outputs": [],
   "source": [
    "import geopandas as gpd\n",
    "import contextily as ctx # for basemaps\n",
    "from shapely.geometry import Point, LineString, Polygon\n",
    "from matplotlib import pyplot as plt"
   ]
  },
  {
   "cell_type": "markdown",
   "id": "ebe9ea4a",
   "metadata": {},
   "source": [
    "---\n",
    "\n",
    "\n"
   ]
  }
 ],
 "metadata": {
  "kernelspec": {
   "display_name": "Python 3",
   "language": "python",
   "name": "python3"
  }
 },
 "nbformat": 4,
 "nbformat_minor": 5
}
