{
 "cells": [
  {
   "cell_type": "markdown",
   "id": "e2b84222",
   "metadata": {},
   "source": [
    "# Lab 02 - Mapping in Python\n",
    "\n",
    "**Author**: Kenneth Wong (khwongk12@gmail.com)\n",
    "\n",
    "**Last Edited**: TODO\n",
    "\n",
    "---\n",
    "\n",
    "## Setup\n"
   ]
  },
  {
   "cell_type": "code",
   "execution_count": null,
   "id": "9af95f3d",
   "metadata": {},
   "outputs": [],
   "source": [
    "!pip3 install geopandas contextily shapely matplotlib"
   ]
  },
  {
   "cell_type": "code",
   "execution_count": null,
   "id": "60ffc2cc",
   "metadata": {},
   "outputs": [],
   "source": [
    "import geopandas as gpd\n",
    "import contextily as ctx # for basemaps\n",
    "from shapely.geometry import Point, LineString, Polygon\n",
    "from matplotlib import pyplot as plt"
   ]
  },
  {
   "cell_type": "markdown",
   "id": "f50e6838",
   "metadata": {},
   "source": [
    "---\n",
    "\n",
    "\n"
   ]
  }
 ],
 "metadata": {
  "kernelspec": {
   "display_name": "Python 3",
   "language": "python",
   "name": "python3"
  }
 },
 "nbformat": 4,
 "nbformat_minor": 5
}
