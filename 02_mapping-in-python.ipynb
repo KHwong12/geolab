{
 "cells": [
  {
   "cell_type": "markdown",
   "id": "0dd58e0c",
   "metadata": {},
   "source": [
    "# Lab 02 - Mapping in Python\n",
    "\n",
    "**Author**: Kenneth Wong (khwongk12@gmail.com)\n",
    "**Last Edited**: TODO\n",
    "\n",
    "---\n",
    "\n",
    "## Setup"
   ]
  },
  {
   "cell_type": "code",
   "execution_count": null,
   "id": "e01ae6f0",
   "metadata": {},
   "outputs": [],
   "source": [
    "!pip3 install geopandas contextily shapely matplotlib"
   ]
  },
  {
   "cell_type": "code",
   "execution_count": null,
   "id": "0779b3c8",
   "metadata": {},
   "outputs": [],
   "source": [
    "import geopandas as gpd\n",
    "import contextily as ctx # for basemaps\n",
    "from shapely.geometry import Point, LineString, Polygon\n",
    "from matplotlib import pyplot as plt"
   ]
  },
  {
   "cell_type": "markdown",
   "id": "f26c4421",
   "metadata": {},
   "source": [
    "---\n",
    "\n",
    "## Spatial Data\n",
    "\n",
    "Intrinsically, there are 3 vector data types: **point**, line and **polygon**.\n",
    "\n",
    "![Types of vector objects](https://datacarpentry.org/organization-geospatial/fig/dc-spatial-vector/pnt_line_poly.png)\n",
    "\n",
    "- **Points:** Each point is defined by a single x, y coordinate. There can be many points in a vector point file. Examples of point data include: sampling locations, the location of individual trees, or the location of survey plots.\n",
    "- **Lines:** Lines are composed of many (at least 2) points that are connected. For instance, a road or a stream may be represented by a line. This line is composed of a series of segments, each “bend” in the road or stream represents a vertex that has defined x, y location.\n",
    "- **Polygons:** A polygon consists of 3 or more vertices that are connected and closed. The outlines of survey plot boundaries, lakes, oceans, and states or countries are often represented by polygons.\n",
    "\n",
    "Read more: https://datacarpentry.org/organization-geospatial/02-intro-vector-data/\n",
    "\n",
    "---\n",
    "\n",
    "## Import spatial data to Jupyter Notebook\n",
    "\n",
    "### Getting spatial data from web\n",
    "\n",
    "For this notebook, we are using data in *Shapefile* format representing distributions of specific beautifully colored fish species called Damselfish and the country borders of Europe.\n",
    "\n",
    "We're going to use the `wget` terminal command to download a file from a url. We then use `unzip` to unzip the archive into a folder of the same name. The `-o` option is used to overwrite the folder if it already exists We then us `ls` to see the contents of the folder."
   ]
  },
  {
   "cell_type": "code",
   "execution_count": null,
   "id": "781cb274",
   "metadata": {},
   "outputs": [],
   "source": [
    "!wget https://github.com/Automating-GIS-processes/FEC/raw/master/data/DAMSELFISH.zip -O fish_data.zip\n",
    "!unzip -o fish_data.zip -d fish_data\n",
    "!ls fish_data"
   ]
  },
  {
   "cell_type": "markdown",
   "id": "19f4d0b1",
   "metadata": {},
   "source": [
    "### Introduction to Geopandas\n",
    "\n",
    "**Geopandas** (http://geopandas.org/) makes it possible to work with geospatial data in Python in a relatively easy way. Geopandas combines the capabilities of the data analysis library [**pandas**](https://pandas.pydata.org/pandas-docs/stable/) with other packages like [**shapely**](https://shapely.readthedocs.io/en/stable/manual.html) and [**fiona**](https://fiona.readthedocs.io/en/latest/manual.html) for managing spatial data.\n",
    "\n",
    "Read more about **Geopandas**: https://automating-gis-processes.github.io/site/master/notebooks/L2/geopandas-basics.html\n",
    "\n",
    "Typically reading the data into Python is the first step of the analysis pipeline. In GIS, there exists various dataformats such as [Shapefile](https://en.wikipedia.org/wiki/Shapefile), [GeoJSON](https://en.wikipedia.org/wiki/GeoJSON), [KML](https://en.wikipedia.org/wiki/Keyhole_Markup_Language), and [GPKG](https://en.wikipedia.org/wiki/GeoPackage) that are probably the most common vector data formats. **Geopandas** is capable of reading data from all of these formats (plus many more). Reading spatial data can be done easily with geopandas using `gpd.read_file()` -function:"
   ]
  },
  {
   "cell_type": "code",
   "execution_count": null,
   "id": "c08669ad",
   "metadata": {},
   "outputs": [],
   "source": [
    "# path to shapefile\n",
    "filepath = \"fish_data/DAMSELFISH_distributions.shp\"\n",
    "\n",
    "# Read file using gpd.read_file()\n",
    "data = gpd.read_file(filepath)"
   ]
  },
  {
   "cell_type": "markdown",
   "id": "9504cdbc",
   "metadata": {},
   "source": [
    "### Quick view of data\n"
   ]
  },
  {
   "cell_type": "code",
   "execution_count": null,
   "id": "dd469662",
   "metadata": {},
   "outputs": [],
   "source": [
    "#look at top entries - looks like a pandas dataframe\n",
    "data.head()"
   ]
  },
  {
   "cell_type": "code",
   "execution_count": null,
   "id": "d3b6e670",
   "metadata": {},
   "outputs": [],
   "source": [
    "data.columns"
   ]
  },
  {
   "cell_type": "markdown",
   "id": "b4684be9",
   "metadata": {},
   "source": [
    "Note that the data are in (lon, lat) ordering --- this is because the convention is (x, y) for computers, but (lat, lon) for coordinates. This is a frequent cause of error."
   ]
  },
  {
   "cell_type": "code",
   "execution_count": null,
   "id": "4aefdfe7",
   "metadata": {},
   "outputs": [],
   "source": [
    "data['geometry']"
   ]
  },
  {
   "cell_type": "code",
   "execution_count": null,
   "id": "b8e691ca",
   "metadata": {},
   "outputs": [],
   "source": [
    "# geopandas adds useful attributes to the geodataframe, such as the ability to get bounds\n",
    "# of all the geometry data\n",
    "data.bounds"
   ]
  },
  {
   "cell_type": "code",
   "execution_count": null,
   "id": "61d4d8cf",
   "metadata": {},
   "outputs": [],
   "source": [
    "# similary, we can get attributes such as boundary\n",
    "data.boundary"
   ]
  },
  {
   "cell_type": "markdown",
   "id": "733b9745",
   "metadata": {},
   "source": [
    "---\n",
    "\n",
    "## Create static maps\n",
    "\n",
    "### Plotting data on maps\n",
    "\n",
    "**Geopandas** provides a useful `.plot()` function which creates a *matplotlib figure* and returns an axes object. There's a ton of additional libraries that provide more plotting functionality, and we'll explore a few of them here. There's no \"correct\" set of libraries to use for GIS in python, and it's up to you to figure out which ones fit the best into your workflow.\n",
    "\n",
    "The `cmap` option to the `.plot()` function allows you to pass in a [matplotlib colormap name](https://matplotlib.org/gallery/color/colormap_reference.html), which are collections of colors used to visualize data"
   ]
  },
  {
   "cell_type": "code",
   "execution_count": null,
   "id": "7f4c3910",
   "metadata": {},
   "outputs": [],
   "source": [
    "# we can use the built-in geopandas plot function to visualize\n",
    "ax = data.plot(figsize = (10,5), alpha = 0.6, cmap = 'Set2')"
   ]
  },
  {
   "cell_type": "markdown",
   "id": "e4f4434c",
   "metadata": {},
   "source": [
    "### Changing symbology of spatial data\n",
    "\n",
    "currently the colors are assigned arbitrarily. However, we can also use colors to encode information.\n",
    "\n",
    "Let's first use colors to categorize by endangerment status. To do so, we pass the `column` argument to `plot()`. For reference, we also set `legend=True`"
   ]
  },
  {
   "cell_type": "code",
   "execution_count": null,
   "id": "d8c0f420",
   "metadata": {
    "lines_to_next_cell": 2
   },
   "outputs": [],
   "source": [
    "ax = data.plot(figsize=(10,5), alpha=0.6, cmap='Set2', column='category', legend=True)"
   ]
  },
  {
   "cell_type": "markdown",
   "id": "222d01b6",
   "metadata": {},
   "source": [
    "Another common use of colors to encode data is to represent numerical data in an area with colors. This is known as a [choropleth](https://en.wikipedia.org/wiki/Choropleth_map).\n",
    "\n",
    "Let's use this to encode the areas of each region"
   ]
  },
  {
   "cell_type": "code",
   "execution_count": null,
   "id": "84d57408",
   "metadata": {},
   "outputs": [],
   "source": [
    "#then pass the area column as an argument\n",
    "ax = data.plot(figsize=(10,5), alpha=0.6, column='shape_Area', legend=True)"
   ]
  },
  {
   "cell_type": "markdown",
   "id": "3fb867f6",
   "metadata": {},
   "source": [
    "The colorbar legend is too big relative to the figure. We'll have to do some manual adjustments. There are tools to create axes grids for colorbars available in:\n",
    "\n",
    "https://matplotlib.org/3.1.0/tutorials/toolkits/axes_grid.html"
   ]
  },
  {
   "cell_type": "code",
   "execution_count": null,
   "id": "7f77886d",
   "metadata": {},
   "outputs": [],
   "source": [
    "from mpl_toolkits.axes_grid1 import make_axes_locatable\n",
    "fig, ax = plt.subplots(1, 1)\n",
    "divider = make_axes_locatable(ax) #makes it so you can append to the axes\n",
    "\n",
    "\n",
    "#put another axes to the right of it, at 5% of the total width with 0.1 points of padding in between\n",
    "cax = divider.append_axes(\"right\", size=\"5%\", pad=0.1)\n",
    "\n",
    "# note that you have to specify both ax and cax as arguments for it to work\n",
    "data.plot(figsize=(10,5), alpha=0.6, column='shape_Area', \n",
    "          legend=True, ax=ax, cax=cax)"
   ]
  },
  {
   "cell_type": "markdown",
   "id": "beb60a07",
   "metadata": {},
   "source": [
    "### Adding Basemap\n",
    "\n",
    "[**Contextily**](https://github.com/geopandas/contextily) is a library for creating basemaps. It pulls data from a host of different basemap providers - see [documentation](https://contextily.readthedocs.io/en/latest/) for more details."
   ]
  },
  {
   "cell_type": "code",
   "execution_count": null,
   "id": "317f3d00",
   "metadata": {},
   "outputs": [],
   "source": [
    "ax = data.plot(figsize=(10,5), alpha=0.6, cmap='Set2', column='category')\n",
    "\n",
    "# now we add a basemap. ctx finds a basemap for a background from\n",
    "# an online repository.\n",
    "# It assumes the data is in web mercator (epsg:3857) unless you specify otherwise\n",
    "ctx.add_basemap(ax, crs = data.crs)"
   ]
  },
  {
   "cell_type": "code",
   "execution_count": null,
   "id": "ad469c4a",
   "metadata": {},
   "outputs": [],
   "source": [
    "# we can set bounds using matplotlib\n",
    "ax = data.plot(figsize = (10,5), alpha = 0.6, cmap = 'Set2', column = 'category')\n",
    "\n",
    "ax.set_xlim([-180,180])\n",
    "ax.set_ylim([-85,85])\n",
    "\n",
    "ctx.add_basemap(ax, crs = data.crs)"
   ]
  },
  {
   "cell_type": "markdown",
   "id": "b71ed06c",
   "metadata": {},
   "source": [
    "![](https://contextily.readthedocs.io/en/latest/_images/tiles.png)\n",
    "\n"
   ]
  },
  {
   "cell_type": "code",
   "execution_count": null,
   "id": "0f795522",
   "metadata": {},
   "outputs": [],
   "source": [
    "# to look at all of the different providers, check:\n",
    "ctx.providers"
   ]
  },
  {
   "cell_type": "code",
   "execution_count": null,
   "id": "ec96e313",
   "metadata": {},
   "outputs": [],
   "source": [
    "ax = data.plot(figsize=(10,5), alpha=0.6, cmap='Set2', column='category')\n",
    "\n",
    "ax.set_xlim([-180,180])\n",
    "ax.set_ylim([-85,85])\n",
    "\n",
    "# to specify the type of basemap, specify the source argument\n",
    "# the syntax is ctx.providers.{provider name}.{provider style}\n",
    "ctx.add_basemap(ax, crs=data.crs, source=ctx.providers.Stamen.Watercolor)\n"
   ]
  },
  {
   "cell_type": "markdown",
   "id": "baeca1a1",
   "metadata": {},
   "source": [
    "---\n",
    "\n",
    "## Create Interactive Maps\n",
    "\n",
    "**[folium](https://github.com/python-visualization/folium)** is a Python library for interactive mapping based on **leaflet.js**."
   ]
  },
  {
   "cell_type": "code",
   "execution_count": null,
   "id": "ee4dca80",
   "metadata": {},
   "outputs": [],
   "source": [
    "!pip3 install folium"
   ]
  },
  {
   "cell_type": "code",
   "execution_count": null,
   "id": "c62eb99f",
   "metadata": {},
   "outputs": [],
   "source": [
    "import folium"
   ]
  },
  {
   "cell_type": "markdown",
   "id": "57324bc1",
   "metadata": {},
   "source": [
    "### Creating a simple interactive web-map\n",
    "\n",
    "Let’s first see how we can do a simple interactive web-map without any data on it. We just visualize OpenStreetMap on a specific location of the a world.\n",
    "\n",
    "First thing that we need to do is to create [a Map instance](https://python-visualization.github.io/folium/modules.html#folium.folium.Map)"
   ]
  },
  {
   "cell_type": "code",
   "execution_count": null,
   "id": "d6d58aa7",
   "metadata": {},
   "outputs": [],
   "source": [
    "# Create a Map instance\n",
    "m = folium.Map(location = [22.35, 114.14], zoom_start = 11, control_scale = True)"
   ]
  },
  {
   "cell_type": "markdown",
   "id": "97669eda",
   "metadata": {},
   "source": [
    "The first parameter `location` takes a pair of lat, lon values as list as an input which will determine where the map will be positioned when user opens up the map. `zoom_start` -parameter adjusts the default zoom-level for the map (the higher the number the closer the zoom is). `control_scale` defines if map should have a scalebar or not.\n",
    "\n",
    "Let’s see what our map looks like:"
   ]
  },
  {
   "cell_type": "code",
   "execution_count": null,
   "id": "dbf6f80d",
   "metadata": {},
   "outputs": [],
   "source": [
    "m"
   ]
  },
  {
   "cell_type": "markdown",
   "id": "79b365e2",
   "metadata": {},
   "source": [
    "### Import data"
   ]
  },
  {
   "cell_type": "code",
   "execution_count": null,
   "id": "9052d13c",
   "metadata": {
    "lines_to_next_cell": 2
   },
   "outputs": [],
   "source": [
    "BASKETBALLCOURT_URL = 'https://geodata.gov.hk/gs/api/v1.0.0/geoDataQuery?q=%7Bv%3A%221%2E0%2E0%22%2Cid%3Afb65b9aa-05d9-4768-a8b1-148072180ba1%2Clang%3A%22ENG%22%7D'\n",
    "\n",
    "basketball_court = gpd.read_file(BASKETBALLCOURT_URL)"
   ]
  },
  {
   "cell_type": "markdown",
   "id": "c0483466",
   "metadata": {},
   "source": [
    "### Adding layers to the map\n",
    "\n",
    "The spatial data we just imported needs to be converted to the format where folium understand. (Think of it as converting a video file from `.mov` to `.mp4` such that the video player could play with it)\n",
    "\n",
    "Now we have our data stored as **GeoJSON** format, which basically contains the data as text in a similar way that it would be written in the `.geojson` -file."
   ]
  },
  {
   "cell_type": "code",
   "execution_count": null,
   "id": "54bf469d",
   "metadata": {},
   "outputs": [],
   "source": [
    "basketball_court_gjson = folium.features.GeoJson(BASKETBALLCOURT_URL, name = \"basketball court\")"
   ]
  },
  {
   "cell_type": "markdown",
   "id": "8cf5ec04",
   "metadata": {},
   "source": [
    "Add it to the map"
   ]
  },
  {
   "cell_type": "code",
   "execution_count": null,
   "id": "53d86776",
   "metadata": {},
   "outputs": [],
   "source": [
    "# Add points to the map instance\n",
    "basketball_court_gjson.add_to(m)\n",
    "\n",
    "m"
   ]
  },
  {
   "cell_type": "markdown",
   "id": "371cb5b0",
   "metadata": {},
   "source": [
    "### Layer control\n",
    "\n",
    "We can also add a `LayerControl` object on our map, which allows the user to control which map layers are visible."
   ]
  },
  {
   "cell_type": "code",
   "execution_count": null,
   "id": "61efe505",
   "metadata": {},
   "outputs": [],
   "source": [
    "# Create a layer control object and add it to our map instance\n",
    "folium.LayerControl().add_to(m)\n",
    "\n",
    "#Show map\n",
    "m"
   ]
  },
  {
   "cell_type": "markdown",
   "id": "d968a8ed",
   "metadata": {},
   "source": [
    "### Clustered point map\n",
    "\n",
    "Let’s visualize the address points (locations of transport stations in Helsinki) on top of the choropleth map using clustered markers using folium’s MarkerCluster class."
   ]
  },
  {
   "cell_type": "code",
   "execution_count": null,
   "id": "1e5b01ea",
   "metadata": {},
   "outputs": [],
   "source": [
    "from folium.plugins import MarkerCluster"
   ]
  },
  {
   "cell_type": "code",
   "execution_count": null,
   "id": "dc38b249",
   "metadata": {},
   "outputs": [],
   "source": [
    "# Create a Map instance\n",
    "m = folium.Map(location = [22.35, 114.14], zoom_start = 11, control_scale = True)"
   ]
  },
  {
   "cell_type": "code",
   "execution_count": null,
   "id": "3b27b1ac",
   "metadata": {},
   "outputs": [],
   "source": [
    "# Following this example: https://github.com/python-visualization/folium/blob/master/examples/MarkerCluster.ipynb\n",
    "\n",
    "# Get x and y coordinates for each point\n",
    "basketball_court[\"x\"] = basketball_court[\"geometry\"].apply(lambda geom: geom.x)\n",
    "basketball_court[\"y\"] = basketball_court[\"geometry\"].apply(lambda geom: geom.y)\n",
    "\n",
    "# Create a list of coordinate pairs\n",
    "basketball_court_locations = list(zip(basketball_court[\"y\"], basketball_court[\"x\"]))"
   ]
  },
  {
   "cell_type": "code",
   "execution_count": null,
   "id": "56761b4e",
   "metadata": {},
   "outputs": [],
   "source": [
    "# Create a folium marker cluster\n",
    "marker_cluster = MarkerCluster(basketball_court_locations)\n",
    "\n",
    "# Add marker cluster to map\n",
    "marker_cluster.add_to(m)\n",
    "\n",
    "# Show map\n",
    "m"
   ]
  }
 ],
 "metadata": {
  "kernelspec": {
   "display_name": "Python 3",
   "language": "python",
   "name": "python3"
  }
 },
 "nbformat": 4,
 "nbformat_minor": 5
}
