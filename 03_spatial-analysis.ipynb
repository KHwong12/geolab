{
 "cells": [
  {
   "cell_type": "markdown",
   "id": "0c14d717",
   "metadata": {},
   "source": [
    "# Lab 03 - Fundamental Spatial Analysis\n",
    "\n",
    "**Author**: Kenneth Wong (khwongk12@gmail.com)\n",
    "\n",
    "**Last Edited**: 2021-10-18"
   ]
  },
  {
   "cell_type": "markdown",
   "id": "02f8debf",
   "metadata": {},
   "source": [
    "## Setup"
   ]
  },
  {
   "cell_type": "raw",
   "id": "927122f7",
   "metadata": {},
   "source": [
    "!pip3 install geopandas matplotlib contextily folium"
   ]
  },
  {
   "cell_type": "code",
   "execution_count": null,
   "id": "0351a4c3",
   "metadata": {},
   "outputs": [],
   "source": [
    "import geopandas as gpd\n",
    "import contextily as ctx # for basemaps\n",
    "from matplotlib import pyplot as plt"
   ]
  },
  {
   "cell_type": "markdown",
   "id": "e8b0ed14",
   "metadata": {},
   "source": [
    "---\n",
    "\n",
    "## About the dataset\n",
    "\n",
    "The dataset used here is the **Recycling Organisations and Collection Points** from the Geodata Store, with preview available in https://geodata.gov.hk/gs/datasets?c=8ce3a677-ae10-4a5e-91d3-6eacbeef70ec\n",
    "\n",
    "[API reference](https://geodata.gov.hk/gs/geodataQueryAPI?uuid=8379b096-2c23-4dfb-9e4c-5c60d4683b8f) of the dataset is also available.\n",
    "\n",
    "## Import data"
   ]
  },
  {
   "cell_type": "code",
   "execution_count": null,
   "id": "f6278ce6",
   "metadata": {},
   "outputs": [],
   "source": [
    "COLLECTION_PT_URL = \"https://geodata.gov.hk/gs/api/v1.0.0/geoDataQuery?q=%7Bv%3A%221%2E0%2E0%22%2Cid%3A8379b096-2c23-4dfb-9e4c-5c60d4683b8f%2Clang%3A%22ENG%22%7D\"\n",
    "\n",
    "collection_pt = gpd.read_file(COLLECTION_PT_URL)"
   ]
  },
  {
   "cell_type": "markdown",
   "id": "e3634034",
   "metadata": {},
   "source": [
    "## Explore data"
   ]
  },
  {
   "cell_type": "code",
   "execution_count": null,
   "id": "d435aeb8",
   "metadata": {},
   "outputs": [],
   "source": [
    "collection_pt.head()"
   ]
  },
  {
   "cell_type": "code",
   "execution_count": null,
   "id": "eab7f1a6",
   "metadata": {},
   "outputs": [],
   "source": [
    "# find all unique values of district\n",
    "collection_pt['District'].unique()"
   ]
  },
  {
   "cell_type": "markdown",
   "id": "5381b86a",
   "metadata": {},
   "source": [
    "It is better to map them out."
   ]
  },
  {
   "cell_type": "code",
   "execution_count": null,
   "id": "1e667d6a",
   "metadata": {},
   "outputs": [],
   "source": [
    "collection_pt.plot(figsize = (15,15), alpha = 0.6, column = 'District', legend = True)"
   ]
  },
  {
   "cell_type": "markdown",
   "id": "a4fccbf4",
   "metadata": {},
   "source": [
    "## Fundemental Spatial Analysis\n",
    "\n",
    "### Filtering data\n",
    "\n",
    "> What if I only want the collection point within Kwun Tong District?"
   ]
  },
  {
   "cell_type": "code",
   "execution_count": null,
   "id": "1729526e",
   "metadata": {},
   "outputs": [],
   "source": [
    "collection_pt_KT = collection_pt[collection_pt['District'] == 'KWUN TONG']"
   ]
  },
  {
   "cell_type": "markdown",
   "id": "a152bac7",
   "metadata": {},
   "source": [
    "### Compute area within a distance from objects (Buffer)\n",
    "\n",
    ">  What is the area *within 200 m straight line distance* from the points?"
   ]
  },
  {
   "cell_type": "code",
   "execution_count": null,
   "id": "37627a50",
   "metadata": {},
   "outputs": [],
   "source": [
    "collection_pt_KT_buffer = collection_pt_KT.to_crs(2326).buffer(200)"
   ]
  },
  {
   "cell_type": "markdown",
   "id": "9d49dd4b",
   "metadata": {},
   "source": [
    "### Create static map\n",
    "\n",
    "Map it out again..."
   ]
  },
  {
   "cell_type": "code",
   "execution_count": null,
   "id": "b26da0a8",
   "metadata": {},
   "outputs": [],
   "source": [
    "basemap = collection_pt_KT.to_crs(2326).plot(figsize = (15,15), alpha = 0.6, column = 'District', legend = True)\n",
    "\n",
    "buffer_map = collection_pt_KT_buffer.plot(ax = basemap, color = 'green', markersize = 5, alpha = 0.25)\n",
    "\n",
    "ctx.add_basemap(buffer_map, crs = collection_pt_KT_buffer.crs, source = ctx.providers.CartoDB.Positron)"
   ]
  },
  {
   "cell_type": "markdown",
   "id": "41725dd8",
   "metadata": {},
   "source": [
    "---\n",
    "\n",
    "## Create Interactive Maps\n",
    "\n",
    "**[folium](https://github.com/python-visualization/folium)** is a Python library for interactive mapping based on **leaflet.js**."
   ]
  },
  {
   "cell_type": "code",
   "execution_count": null,
   "id": "e2de8902",
   "metadata": {},
   "outputs": [],
   "source": [
    "import folium"
   ]
  },
  {
   "cell_type": "markdown",
   "id": "552ca93f",
   "metadata": {},
   "source": [
    "### Create a basic interactive web-map\n",
    "\n",
    "Let’s first see how we can do a simple interactive web-map without any data on it. We just visualize OpenStreetMap on a specific location of the a world.\n",
    "\n",
    "First thing that we need to do is to create [a Map instance](https://python-visualization.github.io/folium/modules.html#folium.folium.Map)"
   ]
  },
  {
   "cell_type": "code",
   "execution_count": null,
   "id": "fad721ba",
   "metadata": {},
   "outputs": [],
   "source": [
    "# Create a Map instance\n",
    "m = folium.Map(location = [22.37, 114.12], zoom_start = 11, control_scale = True)\n"
   ]
  },
  {
   "cell_type": "markdown",
   "id": "dc3342fa",
   "metadata": {},
   "source": [
    "The first parameter `location` takes a pair of lat, lon values as list as an input which will determine where the map will be positioned when user opens up the map. `zoom_start` -parameter adjusts the default zoom-level for the map (the higher the number the closer the zoom is). `control_scale` defines if map should have a scalebar or not.\n",
    "\n",
    "Let’s see what our map looks like:"
   ]
  },
  {
   "cell_type": "code",
   "execution_count": null,
   "id": "98694d8a",
   "metadata": {},
   "outputs": [],
   "source": [
    "m"
   ]
  },
  {
   "cell_type": "markdown",
   "id": "a7db6590",
   "metadata": {},
   "source": [
    "### Adding layers to the map\n",
    "\n",
    "The spatial data we just imported needs to be converted to the format where folium understand. (Think of it as converting a video file from `.mov` to `.mp4` such that the video player could play with it)\n",
    "\n",
    "Now we have our data stored as **GeoJSON** format, which basically contains the data as text in a similar way that it would be written in the `.geojson` -file."
   ]
  },
  {
   "cell_type": "code",
   "execution_count": null,
   "id": "dd53fde7",
   "metadata": {},
   "outputs": [],
   "source": [
    "collection_pt_KT_gjson = folium.features.GeoJson(collection_pt_KT, name = \"KT_Collection_Pt\")"
   ]
  },
  {
   "cell_type": "markdown",
   "id": "f5210a1a",
   "metadata": {},
   "source": [
    "Add it to the map"
   ]
  },
  {
   "cell_type": "code",
   "execution_count": null,
   "id": "0b777f8e",
   "metadata": {},
   "outputs": [],
   "source": [
    "# Add points to the map instance\n",
    "collection_pt_KT_gjson.add_to(m)\n",
    "\n",
    "m"
   ]
  },
  {
   "cell_type": "markdown",
   "id": "bb138c44",
   "metadata": {},
   "source": [
    "Same for the buffer"
   ]
  },
  {
   "cell_type": "code",
   "execution_count": null,
   "id": "30fc91a4",
   "metadata": {},
   "outputs": [],
   "source": [
    "collection_pt_KT_buffer_gjson = folium.features.GeoJson(collection_pt_KT_buffer, name = \"KT_Collection_Buffer\")"
   ]
  },
  {
   "cell_type": "markdown",
   "id": "aa8e8d81",
   "metadata": {},
   "source": [
    "Add it to map also"
   ]
  },
  {
   "cell_type": "code",
   "execution_count": null,
   "id": "c895c7cc",
   "metadata": {},
   "outputs": [],
   "source": [
    "collection_pt_KT_buffer_gjson.add_to(m)\n",
    "\n",
    "m"
   ]
  },
  {
   "cell_type": "markdown",
   "id": "60312956",
   "metadata": {},
   "source": [
    "---\n",
    "\n",
    "Consult the official documentation of the **[folium](https://python-visualization.github.io/folium/)** package if you would like to add additional customisation to the interactive map. Some common customisation includes:\n",
    "\n",
    "- Changing the symbol (marker) of the point\n",
    "- Changing the fill and border colour of the buffer circles\n",
    "- Changing the basemap\n",
    "- Adding popup to show details of the points when user clicks on the data"
   ]
  }
 ],
 "metadata": {
  "kernelspec": {
   "display_name": "Python 3",
   "language": "python",
   "name": "python3"
  }
 },
 "nbformat": 4,
 "nbformat_minor": 5
}
